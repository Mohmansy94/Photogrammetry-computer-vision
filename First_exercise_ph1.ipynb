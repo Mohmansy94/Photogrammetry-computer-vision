{
  "cells": [
    {
      "cell_type": "markdown",
      "metadata": {
        "id": "WJYuvnltWlkF"
      },
      "source": [
        "# Exercise in Photogrammetry I\n",
        "## **Ex.1 : Essential Python Programming**\n",
        "### Hand out: xx.xx.xxxx\n",
        "### Submission: xx.xx.xxxx\n",
        "### Points: 23"
      ]
    },
    {
      "cell_type": "markdown",
      "metadata": {
        "id": "T1jRj1SvWlkK"
      },
      "source": [
        "## A. Python Varialbes\n",
        "\n",
        "A variable is a container for a value, which can be of various types, e.g., int, float and str."
      ]
    },
    {
      "cell_type": "markdown",
      "metadata": {
        "id": "5M8cF-uwWlkL"
      },
      "source": [
        "## A1 \n",
        "\n",
        "**Task**: Define two variables $x$ and $y$ and compute their divsion and sum. Let $x$ be equal to 10 and $y=3$. **Print out** the **type** of $x$, $y$, $\\frac{x}{y}$ and $x+y$ as well as the **result** of their divsion and sum. (2 Points)"
      ]
    },
    {
      "cell_type": "code",
      "execution_count": 1,
      "metadata": {
        "id": "2rt6U3PgWlkL"
      },
      "outputs": [],
      "source": [
        "# Define the variables in this cell\n",
        "x , y = 10 , 3"
      ]
    },
    {
      "cell_type": "code",
      "execution_count": 2,
      "metadata": {
        "id": "lH5goVpnWlkN"
      },
      "outputs": [],
      "source": [
        "# Compute the divsion of both variables\n",
        "division = x/y"
      ]
    },
    {
      "cell_type": "code",
      "execution_count": 3,
      "metadata": {
        "id": "pnREpNzeWlkN"
      },
      "outputs": [],
      "source": [
        "# Compute the sum of both variables\n",
        "sum = x+y"
      ]
    },
    {
      "cell_type": "code",
      "execution_count": 4,
      "metadata": {
        "colab": {
          "base_uri": "https://localhost:8080/"
        },
        "id": "dF32AXDzWlkO",
        "outputId": "c5f57bcc-13a0-4a48-b1a4-71257d3b86cb"
      },
      "outputs": [
        {
          "output_type": "stream",
          "name": "stdout",
          "text": [
            "Data Type of x: <class 'int'>, y: <class 'int'>, Division: <class 'float'>, sum: <class 'int'>\n"
          ]
        }
      ],
      "source": [
        "# Print out the data types in this cell\n",
        "print(f\"Data Type of x: {type(x)}, y: {type(y)}, Division: {type(division)}, sum: {type(sum)}\")"
      ]
    },
    {
      "cell_type": "code",
      "execution_count": 5,
      "metadata": {
        "colab": {
          "base_uri": "https://localhost:8080/"
        },
        "id": "_qZ5e_zIWlkO",
        "outputId": "c149554b-f5a5-46d6-f276-b00a81871699"
      },
      "outputs": [
        {
          "output_type": "stream",
          "name": "stdout",
          "text": [
            "Result of division: 3.3333333333333335, Result of sum: 13\n"
          ]
        }
      ],
      "source": [
        "# Print out the result of the divison and sum in this cell\n",
        "print(f\"Result of division: {division}, Result of sum: {sum}\")"
      ]
    },
    {
      "cell_type": "markdown",
      "metadata": {
        "id": "r9888ChvWlkP"
      },
      "source": [
        "## B. Python Lists, Tuples and Dictionaries\n",
        "\n",
        "A List is a collection which is *ordered* and *changeable*. It allows for *duplicate members*.\n",
        "\n",
        "A Tuple is a collection which is *ordered* and *unchangeable*. It allows for *duplicate members*.\n",
        "\n",
        "A Dictionary is a collection which is *unordered*, *changeable* and *indexed*. *No duplicate* keys allowed"
      ]
    },
    {
      "cell_type": "markdown",
      "metadata": {
        "id": "T-q5j_GmWlkQ"
      },
      "source": [
        "### B1\n",
        "\n",
        "**Task**: Create a list which contains the values 1 to 9. **Print out** the **length** of the list and compute the **sum** of the first and last entry by using *indexing*. (3 Points)"
      ]
    },
    {
      "cell_type": "code",
      "execution_count": 6,
      "metadata": {
        "id": "ON0LlH8bWlkQ"
      },
      "outputs": [],
      "source": [
        "# Create your list here\n",
        "lis = [i for i in range(1,10)]"
      ]
    },
    {
      "cell_type": "code",
      "execution_count": 7,
      "metadata": {
        "id": "HjcZrbrPWlkQ"
      },
      "outputs": [],
      "source": [
        "# Compute the length of the list\n",
        "length = len(lis)"
      ]
    },
    {
      "cell_type": "code",
      "execution_count": 8,
      "metadata": {
        "id": "EjsZBwn-WlkR"
      },
      "outputs": [],
      "source": [
        "# Compute the sum of the first and last entry by using indexing.\n",
        "sum_firs_last = lis[0] + lis [-1]"
      ]
    },
    {
      "cell_type": "code",
      "execution_count": 9,
      "metadata": {
        "colab": {
          "base_uri": "https://localhost:8080/"
        },
        "id": "n9BhtPjwWlkR",
        "outputId": "1cd4ee18-455f-4b22-a6a0-ab6c51733f0f"
      },
      "outputs": [
        {
          "output_type": "stream",
          "name": "stdout",
          "text": [
            "The lenght of the list is: 9\n"
          ]
        }
      ],
      "source": [
        "# Print out the length of the list this cell\n",
        "print(f\"The lenght of the list is: {length}\")"
      ]
    },
    {
      "cell_type": "code",
      "execution_count": 10,
      "metadata": {
        "colab": {
          "base_uri": "https://localhost:8080/"
        },
        "id": "HP3r6sL9WlkS",
        "outputId": "766be795-6e53-4131-c62d-43ef4a33f961"
      },
      "outputs": [
        {
          "output_type": "stream",
          "name": "stdout",
          "text": [
            "The sum of the first and the last entry is: 10\n"
          ]
        }
      ],
      "source": [
        "# Print out the sum of first and last entry in this cell\n",
        "print(f\"The sum of the first and the last entry is: {sum_firs_last}\")"
      ]
    },
    {
      "cell_type": "markdown",
      "metadata": {
        "id": "NkvdlWhqWlkS"
      },
      "source": [
        "**Task**: Set the first entry of this list to 100 and append the value of 99 to the list. Again **print out** the **length** of this the and compute the **sum** of the first and last entry by using *indexing*. (2 Points)"
      ]
    },
    {
      "cell_type": "code",
      "execution_count": 11,
      "metadata": {
        "id": "2zGbPcohWlkS"
      },
      "outputs": [],
      "source": [
        "# Modify the elements of your list in this cell\n",
        "lis[0] = 100 # This will replace the first element of the list with the value 50.\n",
        "lis.append(99)  # This will add the value 49 to the end of the list."
      ]
    },
    {
      "cell_type": "code",
      "execution_count": 12,
      "metadata": {
        "id": "0Rmr_jjaWlkS"
      },
      "outputs": [],
      "source": [
        "# Compute the length of the list\n",
        "new_len = len(lis)"
      ]
    },
    {
      "cell_type": "code",
      "execution_count": 13,
      "metadata": {
        "id": "ST7d_kVZWlkT"
      },
      "outputs": [],
      "source": [
        "# # Compute the sum of the first and last entry by using indexing.\n",
        "new_sum = lis[0] + lis[-1]"
      ]
    },
    {
      "cell_type": "code",
      "execution_count": 14,
      "metadata": {
        "colab": {
          "base_uri": "https://localhost:8080/"
        },
        "id": "g8xrDyRmWlkT",
        "outputId": "9fb44e97-449b-47c0-df1b-75de71256756"
      },
      "outputs": [
        {
          "output_type": "stream",
          "name": "stdout",
          "text": [
            "The lenth of the modified list is: 10\n"
          ]
        }
      ],
      "source": [
        "# Print out the length of the list this cell\n",
        "print(f\"The lenth of the modified list is: {new_len}\")"
      ]
    },
    {
      "cell_type": "code",
      "execution_count": 15,
      "metadata": {
        "colab": {
          "base_uri": "https://localhost:8080/"
        },
        "id": "X0sO10tPWlkT",
        "outputId": "7c0fd709-b2c2-4a97-885a-d3a781b352b6"
      },
      "outputs": [
        {
          "output_type": "stream",
          "name": "stdout",
          "text": [
            "The sum of the first and the last elemnt after modification is: 199\n"
          ]
        }
      ],
      "source": [
        "# Print out the sum of first and last entry in this cell\n",
        "print(f\"The sum of the first and the last elemnt after modification is: {new_sum}\")"
      ]
    },
    {
      "cell_type": "markdown",
      "metadata": {
        "id": "s0WSUE4yWlkT"
      },
      "source": [
        "### B2\n",
        "\n",
        "**Task**: Create a tuple which contains the same values as the previously defined list. Try to change the second element of this tuple to 77 and run the script <br /> (*Cell* > *Run All*). Describe which error occurs and why. Make sure to comment this line of code afterwards otherwise cells below will not be executed! \n",
        "(2 Points)"
      ]
    },
    {
      "cell_type": "code",
      "execution_count": 16,
      "metadata": {
        "colab": {
          "base_uri": "https://localhost:8080/"
        },
        "id": "Nc3RfMpIWlkT",
        "outputId": "84e39b9d-26d5-4f3f-8eed-040c07087eed"
      },
      "outputs": [
        {
          "output_type": "stream",
          "name": "stdout",
          "text": [
            "(100, 2, 3, 4, 5, 6, 7, 8, 9, 99)\n"
          ]
        }
      ],
      "source": [
        "# Create the tuple in this cell\n",
        "tup = tuple(lis)\n",
        "print(tup)"
      ]
    },
    {
      "cell_type": "code",
      "execution_count": 17,
      "metadata": {
        "colab": {
          "base_uri": "https://localhost:8080/",
          "height": 222
        },
        "id": "VKJ20PczWlkU",
        "outputId": "ec2203bb-bc39-4ced-84ae-39f705ffa3ef"
      },
      "outputs": [
        {
          "output_type": "error",
          "ename": "TypeError",
          "evalue": "ignored",
          "traceback": [
            "\u001b[0;31m---------------------------------------------------------------------------\u001b[0m",
            "\u001b[0;31mTypeError\u001b[0m                                 Traceback (most recent call last)",
            "\u001b[0;32m<ipython-input-17-dbd88d8e3e51>\u001b[0m in \u001b[0;36m<cell line: 2>\u001b[0;34m()\u001b[0m\n\u001b[1;32m      1\u001b[0m \u001b[0;31m# Try to change the 2nd element of this tuple\u001b[0m\u001b[0;34m\u001b[0m\u001b[0;34m\u001b[0m\u001b[0m\n\u001b[0;32m----> 2\u001b[0;31m \u001b[0mtuple\u001b[0m\u001b[0;34m[\u001b[0m\u001b[0;36m1\u001b[0m\u001b[0;34m]\u001b[0m\u001b[0;34m=\u001b[0m \u001b[0;36m77\u001b[0m\u001b[0;34m\u001b[0m\u001b[0;34m\u001b[0m\u001b[0m\n\u001b[0m\u001b[1;32m      3\u001b[0m \u001b[0;31m# First execute the code (Cell > Run All) and inspect the error.\u001b[0m\u001b[0;34m\u001b[0m\u001b[0;34m\u001b[0m\u001b[0m\n\u001b[1;32m      4\u001b[0m \u001b[0;31m# Afterwards make sure to comment all code within this cell - otherwise cells below will not be executed!\u001b[0m\u001b[0;34m\u001b[0m\u001b[0;34m\u001b[0m\u001b[0m\n",
            "\u001b[0;31mTypeError\u001b[0m: 'type' object does not support item assignment"
          ]
        }
      ],
      "source": [
        "# Try to change the 2nd element of this tuple\n",
        "tuple[1]= 77\n",
        "# First execute the code (Cell > Run All) and inspect the error.\n",
        "# Afterwards make sure to comment all code within this cell - otherwise cells below will not be executed!"
      ]
    },
    {
      "cell_type": "markdown",
      "metadata": {
        "id": "Tfju84lyWlkU"
      },
      "source": [
        "Write your **answer** about which error occurs and why **here**:>>>\n",
        "**'type' object does not support item assignment>>>  Tuples are immutable objects, which means that once you create a tuple, you cannot modify its contents.**\n",
        "\n",
        "\n"
      ]
    },
    {
      "cell_type": "markdown",
      "metadata": {
        "id": "jn4KazLEWlkU"
      },
      "source": [
        "### B3\n",
        "\n",
        "**Task**: Create a dictionary which contains the following key-value pairs: *City* - *Bonn*, *Street* - *Nussallee*, *HouseNumber* - 15.<br /> Get the value of *HouseNumber* and **print it out**. (3 Points)"
      ]
    },
    {
      "cell_type": "code",
      "execution_count": 18,
      "metadata": {
        "id": "QtmVytDoWlkU"
      },
      "outputs": [],
      "source": [
        "# Create the dictionary here\n",
        "dictionary = {\"City\":\"Bonn\", \"Street\":\"Nussallee\", \"HouseNumber\":\"15\"}"
      ]
    },
    {
      "cell_type": "code",
      "execution_count": 19,
      "metadata": {
        "colab": {
          "base_uri": "https://localhost:8080/"
        },
        "id": "VDXZN4TjWlkU",
        "outputId": "0b605fba-4b35-4ace-bf1d-dda853922695"
      },
      "outputs": [
        {
          "output_type": "stream",
          "name": "stdout",
          "text": [
            "15\n"
          ]
        }
      ],
      "source": [
        "# Get the value of 'HouseNumber' and print it in this cell\n",
        "HouseNumber = dictionary.get(\"HouseNumber\")\n",
        "print(HouseNumber)"
      ]
    },
    {
      "cell_type": "markdown",
      "metadata": {
        "id": "VbGuJNajWlkV"
      },
      "source": [
        "**Task**: Add the key-value pair *LectureRoom* : *14* to this dictionary. Finally **print out** all **keys** and **values** of this dictionary. (2 Points)"
      ]
    },
    {
      "cell_type": "code",
      "execution_count": 20,
      "metadata": {
        "id": "_OodYowHWlkV"
      },
      "outputs": [],
      "source": [
        "# Add key-value pair\n",
        "dictionary[\"LectureRoom\"] = \"14\""
      ]
    },
    {
      "cell_type": "code",
      "execution_count": 21,
      "metadata": {
        "colab": {
          "base_uri": "https://localhost:8080/"
        },
        "id": "qYGJZxA1WlkV",
        "outputId": "07c04389-cc18-491a-a14f-8d5451076a42"
      },
      "outputs": [
        {
          "output_type": "stream",
          "name": "stdout",
          "text": [
            "dict_keys(['City', 'Street', 'HouseNumber', 'LectureRoom'])\n"
          ]
        }
      ],
      "source": [
        "# Print out all keys of the dict\n",
        "print(dictionary.keys())"
      ]
    },
    {
      "cell_type": "code",
      "execution_count": 22,
      "metadata": {
        "colab": {
          "base_uri": "https://localhost:8080/"
        },
        "id": "eNhPAsTgWlkV",
        "outputId": "44d8a861-33d0-47da-fc9f-8d6baf0dd82c"
      },
      "outputs": [
        {
          "output_type": "stream",
          "name": "stdout",
          "text": [
            "dict_values(['Bonn', 'Nussallee', '15', '14'])\n"
          ]
        }
      ],
      "source": [
        "# Print out all values of the dict\n",
        "print(dictionary.values())"
      ]
    },
    {
      "cell_type": "markdown",
      "metadata": {
        "id": "fjl5sn-vWlkV"
      },
      "source": [
        "## C. Python Conditionals and Loops"
      ]
    },
    {
      "cell_type": "markdown",
      "metadata": {
        "id": "ZT9IUXNsWlkV"
      },
      "source": [
        "**Task**: You are given a list which contains multiple lists itself which we assign to the variable called *nested_list*.<br>\n",
        "**Print out** the length of *nested_list* and write a *for loop* which **prints** the **length** of each individual list within the *nested_list* (3 Points)"
      ]
    },
    {
      "cell_type": "markdown",
      "metadata": {
        "id": "7Ckc8oUxWlkW"
      },
      "source": [
        "**Hint**"
      ]
    },
    {
      "cell_type": "code",
      "execution_count": 23,
      "metadata": {
        "colab": {
          "base_uri": "https://localhost:8080/"
        },
        "id": "Xs67sjbDWlkW",
        "outputId": "4d9aedcc-0ce2-4d16-ce0f-8f871c6a1532"
      },
      "outputs": [
        {
          "output_type": "stream",
          "name": "stdout",
          "text": [
            "0\n",
            "0\n"
          ]
        }
      ],
      "source": [
        "# Python is picky with tabs! All code you want to run within a loop or condition needs to be indented by 4 spaces.\n",
        "# In case the loop or condition in nested within another loop or condition it needs to be indented by \n",
        "# 8 spaces and so on.\n",
        "\n",
        "# Example\n",
        "for i in range(1):\n",
        "    print(i)             # -> 4 spaces before the print statement\n",
        "    for j in range(1):   # -> 4 spaces before for begins\n",
        "        print(j)         # -> 8 spaces before the print statement"
      ]
    },
    {
      "cell_type": "code",
      "execution_count": 24,
      "metadata": {
        "id": "4j3smBXIWlkW"
      },
      "outputs": [],
      "source": [
        "# You are a given a nested list\n",
        "nested_list = [[1,2,3,0],\n",
        "               [4,5,0,6, 5],\n",
        "               [7,0,9,0,10, -10]]"
      ]
    },
    {
      "cell_type": "code",
      "execution_count": 25,
      "metadata": {
        "colab": {
          "base_uri": "https://localhost:8080/"
        },
        "id": "GEMV934NWlkW",
        "outputId": "866ff8dd-034c-4ad3-9034-4813c07f8ab7"
      },
      "outputs": [
        {
          "output_type": "stream",
          "name": "stdout",
          "text": [
            "3\n"
          ]
        }
      ],
      "source": [
        "# Print out the length of nested_list in this cell\n",
        "nested_list_len = (len(nested_list))\n",
        "print(nested_list_len)"
      ]
    },
    {
      "cell_type": "code",
      "execution_count": 27,
      "metadata": {
        "colab": {
          "base_uri": "https://localhost:8080/"
        },
        "id": "056cY5TkWlkW",
        "outputId": "c795db7e-1e9b-42d3-a9de-a47d1cbe9ff8"
      },
      "outputs": [
        {
          "output_type": "stream",
          "name": "stdout",
          "text": [
            "4\n",
            "5\n",
            "6\n"
          ]
        }
      ],
      "source": [
        "# Write the code to print the length of each individual list within the nested_list in this cell by using a loop\n",
        "for i in range(nested_list_len):\n",
        "     print(len(nested_list[i]))"
      ]
    },
    {
      "cell_type": "markdown",
      "metadata": {
        "id": "QE_Rfn5RWlkW"
      },
      "source": [
        "**Task**: Sum up all entries in the nested list by using nested *for loops*. If a entry is equal to zero **print** the string *'Found zero element**. Finally **print out** the result of the **sum**. (3 Points)"
      ]
    },
    {
      "cell_type": "code",
      "execution_count": 28,
      "metadata": {
        "id": "2u_rirm2WlkX"
      },
      "outputs": [],
      "source": [
        "# Write the code to sum up all entries in nested_list in this cell\n",
        "summation = 0 \n",
        "\n",
        "for i in range (nested_list_len):\n",
        "  for m in range(len(nested_list[i])):\n",
        "    summation += nested_list[i][m]"
      ]
    },
    {
      "cell_type": "code",
      "execution_count": 29,
      "metadata": {
        "colab": {
          "base_uri": "https://localhost:8080/"
        },
        "id": "vWIcJ0eSWlkX",
        "outputId": "d77174be-dd73-4234-9558-3da2a786a018"
      },
      "outputs": [
        {
          "output_type": "stream",
          "name": "stdout",
          "text": [
            "The result of the summation is: 42\n"
          ]
        }
      ],
      "source": [
        "# Print out the result of the sum in this cell\n",
        "print(f\"The result of the summation is: {summation}\")"
      ]
    },
    {
      "cell_type": "markdown",
      "metadata": {
        "id": "pg-m78zqWlkX"
      },
      "source": [
        "## D. Python Functions\n"
      ]
    },
    {
      "cell_type": "markdown",
      "metadata": {
        "id": "VWujP5ydWlkX"
      },
      "source": [
        "**Task**: Write a function called *sum_nested_list* which takes as input parameter a nested list and returns the sum of all entries (2 Points)"
      ]
    },
    {
      "cell_type": "code",
      "execution_count": 30,
      "metadata": {
        "id": "xbMvMuaUWlkX"
      },
      "outputs": [],
      "source": [
        "# Define your Function in this cell\n",
        "def sum_nested_list(nested_list):\n",
        "    summation = 0\n",
        "    for i in range(len(nested_list)):\n",
        "        for m in range(len(nested_list[i])):\n",
        "            summation += nested_list[i][m]\n",
        "    return summation\n"
      ]
    },
    {
      "cell_type": "markdown",
      "metadata": {
        "id": "iSiu_-I2WlkX"
      },
      "source": [
        "**Task**: Pass the given variable *another_nested_list* to your function and **print out** the **result** (1 Point)"
      ]
    },
    {
      "cell_type": "code",
      "execution_count": 31,
      "metadata": {
        "id": "Oa2EZCCZWlkY"
      },
      "outputs": [],
      "source": [
        "# Given variable another_nested_list \n",
        "another_nested_list = [[22, -22, 33], [-33, 44, 55], [-55, -44, 1, -2]]"
      ]
    },
    {
      "cell_type": "code",
      "execution_count": 32,
      "metadata": {
        "id": "YQMuih51WlkY"
      },
      "outputs": [],
      "source": [
        "# Call your function here\n",
        "sum_new_list = sum_nested_list(another_nested_list)"
      ]
    },
    {
      "cell_type": "code",
      "execution_count": 33,
      "metadata": {
        "colab": {
          "base_uri": "https://localhost:8080/"
        },
        "id": "io38th7nWlkY",
        "outputId": "9bb198d3-cce0-43d1-b338-a7699b852e8a"
      },
      "outputs": [
        {
          "output_type": "stream",
          "name": "stdout",
          "text": [
            "-1\n"
          ]
        }
      ],
      "source": [
        "# Print out the sum of all entries here\n",
        "print(sum_new_list)"
      ]
    }
  ],
  "metadata": {
    "kernelspec": {
      "display_name": "Python 3",
      "language": "python",
      "name": "python3"
    },
    "language_info": {
      "codemirror_mode": {
        "name": "ipython",
        "version": 3
      },
      "file_extension": ".py",
      "mimetype": "text/x-python",
      "name": "python",
      "nbconvert_exporter": "python",
      "pygments_lexer": "ipython3",
      "version": "3.8.5"
    },
    "toc": {
      "base_numbering": 1,
      "nav_menu": {},
      "number_sections": true,
      "sideBar": true,
      "skip_h1_title": false,
      "title_cell": "Table of Contents",
      "title_sidebar": "Contents",
      "toc_cell": false,
      "toc_position": {},
      "toc_section_display": true,
      "toc_window_display": false
    },
    "colab": {
      "provenance": []
    }
  },
  "nbformat": 4,
  "nbformat_minor": 0
}